{
 "cells": [
  {
   "cell_type": "markdown",
   "metadata": {},
   "source": [
    "## this is a module written in python using sklearn and SVM to classify and recognize hand written digits and symbols\n",
    "\n",
    "#### first we are going to start with importing all the libraries that we will need.\n",
    "\n",
    "#### we will use numpy for converting the training data into numpy arrays.\n",
    "#### we will use sklearn for the SVM modle"
   ]
  },
  {
   "cell_type": "code",
   "execution_count": 6,
   "metadata": {},
   "outputs": [
    {
     "name": "stdout",
     "output_type": "stream",
     "text": [
      "You have 3231 Data Points.\n",
      "this is what the data of one photo will look like: \n",
      "label: +\n",
      "['0', '0', '0.9', '3.2', '0', '0', '0', '0', '0', '0', '0.1', '3.1', '0.2', '0', '0', '0', '0.5', '1.1', '0.5', '2.5', '1.6', '1.1', '1.7', '2', '3.4', '2.1', '2.5', '3.5', '4.3', '2.1', '1.5', '1.8', '0.2', '0', '0', '0.3', '2.4', '0', '0', '0', '0', '0', '0', '0.1', '2.8', '0.1', '0', '0', '0', '0', '0', '0', '1.8', '1.4', '0', '0', '0', '0', '0', '0', '0.3', '1.9', '0', '0']\n"
     ]
    }
   ],
   "source": [
    "import csv\n",
    "from PIL import Image,ImageFilter\n",
    "import numpy as np\n",
    "from sklearn import svm, datasets\n",
    "\n",
    "\n",
    "# reading the data from the localy saved CSV file\n",
    "data = []\n",
    "with open(\"data.csv\", \"r\") as file:\n",
    "    reader = csv.reader(file)\n",
    "    for line in reader:\n",
    "        data.append(line)\n",
    "data.pop(0)\n",
    "\n",
    "# dividing the data into labels and features\n",
    "labels,features = [],[]\n",
    "for entry in data:\n",
    "    labels.append(entry[0])\n",
    "    features.append(entry[1:])\n",
    "    \n",
    "# let's have a look at how many data entry do we have and and examply of what the first photo looks like\n",
    "print(\"You have \"+str(len(features))+\" Data Points.\")\n",
    "print(\"this is what the data of one photo will look like: \")\n",
    "print(\"label: \"+str(labels[340]))\n",
    "print(features[340])"
   ]
  },
  {
   "cell_type": "markdown",
   "metadata": {},
   "source": [
    "## we are going to create the modle. \n",
    "\n",
    "## we will train it on all the data."
   ]
  },
  {
   "cell_type": "code",
   "execution_count": 8,
   "metadata": {},
   "outputs": [
    {
     "name": "stdout",
     "output_type": "stream",
     "text": [
      "SVC(C=100.0, cache_size=200, class_weight=None, coef0=0.0,\n",
      "  decision_function_shape='ovr', degree=3, gamma=0.001, kernel='rbf',\n",
      "  max_iter=-1, probability=False, random_state=None, shrinking=True,\n",
      "  tol=0.001, verbose=False)\n"
     ]
    }
   ],
   "source": [
    "# assigning the inputs and the desired output for the module\n",
    "x,y = np.array(features), np.array(labels)\n",
    "# creating the module\n",
    "clf = svm.SVC(gamma=0.001, C=100.0, kernel='rbf')\n",
    "# fitting/training the module\n",
    "clf.fit(x,y)"
   ]
  },
  {
   "cell_type": "markdown",
   "metadata": {},
   "source": [
    "## we will read the testing dataset fromt he file test.csv \n",
    "\n",
    "##### run and see how the data would look "
   ]
  },
  {
   "cell_type": "code",
   "execution_count": 14,
   "metadata": {},
   "outputs": [
    {
     "name": "stdout",
     "output_type": "stream",
     "text": [
      "['0', '0.1', '1.1', '1.9', '1.5', '0.1', '0', '0', '0', '1.6', '1.6', '0.8', '1.6', '1.1', '0', '0', '0', '0.1', '0', '0', '1.2', '1.3', '0', '0', '0', '0', '0', '0.3', '1.8', '0.1', '0', '0', '0', '0', '0', '1.6', '0.7', '0', '0', '0', '0', '0', '0.8', '1.3', '0', '0', '0', '0', '0.6', '2.2', '2.4', '1', '0.9', '0.9', '0.4', '0', '1.8', '2.6', '1.4', '1.4', '1.4', '1.4', '0.6', '0']\n",
      "\n",
      "['0', '0', '1.2', '2.1', '2.3', '2.1', '0.6', '0', '0', '0', '0.5', '0.2', '0', '0.4', '2.4', '0', '0', '0', '0.2', '0.8', '1', '2.1', '0.7', '0', '0', '0', '0.4', '2.1', '3.3', '2.4', '0.3', '0', '0', '0', '0', '0', '0', '1', '1.6', '0', '0', '0', '0', '0', '0', '0.5', '1.8', '0', '0', '0', '0.2', '0.7', '1.5', '2.3', '0.6', '0', '0', '0', '1.3', '1.8', '0.9', '0.1', '0', '0']\n",
      "\n",
      "['0.7', '0.4', '0', '0', '0', '0', '0.9', '2', '0.5', '2', '0.8', '0', '0', '0.9', '1.8', '0.1', '0', '0.1', '1.5', '0.6', '1.3', '1.6', '0.1', '0', '0', '0', '0.1', '3.3', '1.1', '0', '0', '0', '0', '0', '1.4', '1.6', '1.6', '0.1', '0', '0', '0', '0.9', '1.5', '0', '0.7', '1.9', '0.6', '0', '0.8', '1.6', '0.1', '0', '0', '0.3', '1.6', '1', '1.4', '0.1', '0', '0', '0', '0', '0', '1.4']\n"
     ]
    }
   ],
   "source": [
    "testing_data = []\n",
    "with open(\"testing/test.csv\", \"r\") as file:\n",
    "    reader = csv.reader(file)\n",
    "    for line in reader:\n",
    "        testing_data.append(line)\n",
    "testing_data.pop(0)\n",
    "\n",
    "# dividing the data into labels and features\n",
    "test_labels,test_features = [],[]\n",
    "for entry in testing_data:\n",
    "    test_labels.append(entry[0])\n",
    "    test_features.append(entry[1:])\n",
    "    \n",
    "print(*test_features, sep='\\n\\n')"
   ]
  },
  {
   "cell_type": "markdown",
   "metadata": {},
   "source": [
    "### predicting and classifying three photos.\n",
    "### first two are digits and the last one is a symbol.\n",
    "\n",
    "#### look at the acurrecy"
   ]
  },
  {
   "cell_type": "code",
   "execution_count": 19,
   "metadata": {},
   "outputs": [
    {
     "name": "stdout",
     "output_type": "stream",
     "text": [
      "Here is my prediction:\n",
      "[2, 3, 'x']\n",
      "with confidence: 100%\n"
     ]
    }
   ],
   "source": [
    "predictions= [int(clf.predict([test_features[0]])[0]),int(clf.predict([test_features[1]])[0]), clf.predict([test_features[2]])[0]]\n",
    "acc = clf.score(test_features,test_labels)\n",
    "\n",
    "print(\"Here is my prediction:\")\n",
    "print(predictions)\n",
    "\n",
    "print(\"with confidence: \" + str(int(acc*100))+\"%\")\n"
   ]
  },
  {
   "cell_type": "markdown",
   "metadata": {},
   "source": [
    "### now we will evaluate the predictions to perform the mathimatical problem"
   ]
  },
  {
   "cell_type": "code",
   "execution_count": 30,
   "metadata": {},
   "outputs": [
    {
     "name": "stdout",
     "output_type": "stream",
     "text": [
      "the answer for 2x3 is : 6\n"
     ]
    }
   ],
   "source": [
    "if predictions[2] == '+':\n",
    "    answer = predictions[0]+predictions[1]\n",
    "elif predictions[2] == '-':\n",
    "    answer = predictions[0]-predictions[1]\n",
    "elif predictions[2] == '%':\n",
    "    answer = predictions[0]/predictions[1]\n",
    "else:\n",
    "    answer = predictions[0]*predictions[1]\n",
    "    \n",
    "print(\"the answer for \"+ str(predictions[0])+ str(predictions[2])+str(predictions[1]) + \" is : \"+str(answer))"
   ]
  },
  {
   "cell_type": "code",
   "execution_count": null,
   "metadata": {},
   "outputs": [],
   "source": []
  }
 ],
 "metadata": {
  "kernelspec": {
   "display_name": "Python 3",
   "language": "python",
   "name": "python3"
  },
  "language_info": {
   "codemirror_mode": {
    "name": "ipython",
    "version": 3
   },
   "file_extension": ".py",
   "mimetype": "text/x-python",
   "name": "python",
   "nbconvert_exporter": "python",
   "pygments_lexer": "ipython3",
   "version": "3.5.2"
  }
 },
 "nbformat": 4,
 "nbformat_minor": 1
}
