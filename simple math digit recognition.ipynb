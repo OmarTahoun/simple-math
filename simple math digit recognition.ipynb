{
 "cells": [
  {
   "cell_type": "markdown",
   "metadata": {},
   "source": [
    "this is a module written in python using sklearn and SVM to classify and recognize hand written digits and symbols\n",
    "first we are going to start with importing all the libraries that we will need.\n",
    "\n",
    "we will use numpy for converting the training data into numpy arrays.\n",
    "we will use sklearn for the SVM modle"
   ]
  },
  {
   "cell_type": "code",
   "execution_count": 1,
   "metadata": {},
   "outputs": [],
   "source": [
    "import numpy as np\n",
    "from sklearn import svm"
   ]
  },
  {
   "cell_type": "markdown",
   "metadata": {},
   "source": [
    "here we are getting the dataset from azure experiment."
   ]
  },
  {
   "cell_type": "code",
   "execution_count": 2,
   "metadata": {},
   "outputs": [],
   "source": [
    "from azureml import Workspace\n",
    "\n",
    "ws = Workspace()\n",
    "ds = ws.datasets['data.csv']\n",
    "frame = ds.to_dataframe()"
   ]
  },
  {
   "cell_type": "markdown",
   "metadata": {},
   "source": [
    "we are extracting the data from the file and adding it to the labels and features lists."
   ]
  },
  {
   "cell_type": "code",
   "execution_count": 10,
   "metadata": {},
   "outputs": [
    {
     "name": "stdout",
     "output_type": "stream",
     "text": [
      "3231\n"
     ]
    }
   ],
   "source": [
    "data = frame.values.tolist()\n",
    "labels,features = [],[]\n",
    "for entry in data:\n",
    "    labels.append(entry[0])\n",
    "    features.append(entry[1:])"
   ]
  },
  {
   "cell_type": "markdown",
   "metadata": {},
   "source": [
    "we are going to create the modle.\n",
    "we will train it on all the data except the last 10 so that we can test it using that."
   ]
  },
  {
   "cell_type": "code",
   "execution_count": null,
   "metadata": {},
   "outputs": [],
   "source": [
    "# assigning the inputs and the desired output for the module\n",
    "x,y = np.array(features[:-10]), np.array(labels:-10)\n",
    "# creating the module\n",
    "clf = svm.SVC(gamma=0.001, C=100.0, kernel='rbf')\n",
    "# fitting/training the module\n",
    "clf.fit(x,y)"
   ]
  },
  {
   "cell_type": "markdown",
   "metadata": {},
   "source": [
    "predicting and classifying three photos.\n",
    "first two are digits and the last one is a symbol."
   ]
  },
  {
   "cell_type": "code",
   "execution_count": 18,
   "metadata": {},
   "outputs": [],
   "source": [
    "predictions= [int(clf.predict([features[-5]])[0]),int(clf.predict([features[2389]])[0]), clf.predict([features[458]])[0]]\n",
    "print(predictions)"
   ]
  },
  {
   "cell_type": "markdown",
   "metadata": {},
   "source": [
    "now we will evaluate the predictions to perform the mathimatical problem"
   ]
  },
  {
   "cell_type": "code",
   "execution_count": 19,
   "metadata": {},
   "outputs": [],
   "source": [
    "if predictions[2] == '+':\n",
    "    answer = predictions[0]+predictions[1]\n",
    "elif predictions[2] == '-':\n",
    "    answer = predictions[0]-predictions[1]\n",
    "elif predictions[2] == '%':\n",
    "    answer = predictions[0]/predictions[1]\n",
    "else:\n",
    "    answer = predictions[0]*predictions[1]\n",
    "    \n",
    "print(answer)"
   ]
  }
 ],
 "metadata": {
  "kernelspec": {
   "display_name": "Python 3",
   "language": "python",
   "name": "python3"
  },
  "language_info": {
   "codemirror_mode": {
    "name": "ipython",
    "version": 3
   },
   "file_extension": ".py",
   "mimetype": "text/x-python",
   "name": "python",
   "nbconvert_exporter": "python",
   "pygments_lexer": "ipython3",
   "version": "3.5.2"
  }
 },
 "nbformat": 4,
 "nbformat_minor": 1
}
